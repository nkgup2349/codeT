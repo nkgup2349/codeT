{
 "cells": [
  {
   "cell_type": "code",
   "execution_count": 5,
   "id": "616dbc07",
   "metadata": {},
   "outputs": [],
   "source": [
    "import pandas as pd\n",
    "import numpy as np\n",
    "import seaborn as sns"
   ]
  },
  {
   "cell_type": "code",
   "execution_count": null,
   "id": "f9dbb661",
   "metadata": {},
   "outputs": [
    {
     "name": "stderr",
     "output_type": "stream",
     "text": [
      "c:\\Users\\Nikhil Gupta\\Downloads\\Text-Emotion-Detection-main\\Text-Emotion-Detection-main\\Text Emotion Detection\\venv\\Lib\\site-packages\\tqdm\\auto.py:21: TqdmWarning: IProgress not found. Please update jupyter and ipywidgets. See https://ipywidgets.readthedocs.io/en/stable/user_install.html\n",
      "  from .autonotebook import tqdm as notebook_tqdm\n",
      "c:\\Users\\Nikhil Gupta\\Downloads\\Text-Emotion-Detection-main\\Text-Emotion-Detection-main\\Text Emotion Detection\\venv\\Lib\\site-packages\\huggingface_hub\\file_download.py:143: UserWarning: `huggingface_hub` cache-system uses symlinks by default to efficiently store duplicated files but your machine does not support them in C:\\Users\\Nikhil Gupta\\.cache\\huggingface\\hub\\datasets--emotion. Caching files will still work but in a degraded version that might require more space on your disk. This warning can be disabled by setting the `HF_HUB_DISABLE_SYMLINKS_WARNING` environment variable. For more details, see https://huggingface.co/docs/huggingface_hub/how-to-cache#limitations.\n",
      "To support symlinks on Windows, you either need to activate Developer Mode or to run Python as an administrator. In order to activate developer mode, see this article: https://docs.microsoft.com/en-us/windows/apps/get-started/enable-your-device-for-development\n",
      "  warnings.warn(message)\n",
      "Generating train split: 100%|██████████| 16000/16000 [00:00<00:00, 113827.18 examples/s]\n",
      "Generating validation split: 100%|██████████| 2000/2000 [00:00<00:00, 143709.45 examples/s]\n",
      "Generating test split: 100%|██████████| 2000/2000 [00:00<00:00, 167110.40 examples/s]\n"
     ]
    }
   ],
   "source": [
    "from datasets import load_dataset\n",
    "\n",
    "dataset = load_dataset(\"emotion\")\n",
    "df = pd.DataFrame(dataset['train'])\n",
    "df['Emotion'] = df['label'].map(dataset['train'].features['label'].int2str)\n",
    "df = df[['Emotion', 'text']]\n",
    "df.columns = ['Emotion', 'Text']"
   ]
  },
  {
   "cell_type": "code",
   "execution_count": null,
   "id": "c1175202",
   "metadata": {},
   "outputs": [
    {
     "data": {
      "text/html": [
       "<div>\n",
       "<style scoped>\n",
       "    .dataframe tbody tr th:only-of-type {\n",
       "        vertical-align: middle;\n",
       "    }\n",
       "\n",
       "    .dataframe tbody tr th {\n",
       "        vertical-align: top;\n",
       "    }\n",
       "\n",
       "    .dataframe thead th {\n",
       "        text-align: right;\n",
       "    }\n",
       "</style>\n",
       "<table border=\"1\" class=\"dataframe\">\n",
       "  <thead>\n",
       "    <tr style=\"text-align: right;\">\n",
       "      <th></th>\n",
       "      <th>Emotion</th>\n",
       "      <th>Text</th>\n",
       "      <th>Clean_Text</th>\n",
       "    </tr>\n",
       "  </thead>\n",
       "  <tbody>\n",
       "    <tr>\n",
       "      <th>0</th>\n",
       "      <td>sadness</td>\n",
       "      <td>i didnt feel humiliated</td>\n",
       "      <td>didnt feel humiliated</td>\n",
       "    </tr>\n",
       "    <tr>\n",
       "      <th>1</th>\n",
       "      <td>sadness</td>\n",
       "      <td>i can go from feeling so hopeless to so damned...</td>\n",
       "      <td>feeling hopeless damned hopeful cares awake</td>\n",
       "    </tr>\n",
       "    <tr>\n",
       "      <th>2</th>\n",
       "      <td>anger</td>\n",
       "      <td>im grabbing a minute to post i feel greedy wrong</td>\n",
       "      <td>im grabbing minute post feel greedy wrong</td>\n",
       "    </tr>\n",
       "    <tr>\n",
       "      <th>3</th>\n",
       "      <td>love</td>\n",
       "      <td>i am ever feeling nostalgic about the fireplac...</td>\n",
       "      <td>feeling nostalgic fireplace know property</td>\n",
       "    </tr>\n",
       "    <tr>\n",
       "      <th>4</th>\n",
       "      <td>anger</td>\n",
       "      <td>i am feeling grouchy</td>\n",
       "      <td>feeling grouchy</td>\n",
       "    </tr>\n",
       "    <tr>\n",
       "      <th>...</th>\n",
       "      <td>...</td>\n",
       "      <td>...</td>\n",
       "      <td>...</td>\n",
       "    </tr>\n",
       "    <tr>\n",
       "      <th>15995</th>\n",
       "      <td>sadness</td>\n",
       "      <td>i just had a very brief time in the beanbag an...</td>\n",
       "      <td>brief time beanbag said anna feel like beaten</td>\n",
       "    </tr>\n",
       "    <tr>\n",
       "      <th>15996</th>\n",
       "      <td>sadness</td>\n",
       "      <td>i am now turning and i feel pathetic that i am...</td>\n",
       "      <td>turning feel pathetic waiting tables subbing t...</td>\n",
       "    </tr>\n",
       "    <tr>\n",
       "      <th>15997</th>\n",
       "      <td>joy</td>\n",
       "      <td>i feel strong and good overall</td>\n",
       "      <td>feel strong good overall</td>\n",
       "    </tr>\n",
       "    <tr>\n",
       "      <th>15998</th>\n",
       "      <td>anger</td>\n",
       "      <td>i feel like this was such a rude comment and i...</td>\n",
       "      <td>feel like rude comment im glad</td>\n",
       "    </tr>\n",
       "    <tr>\n",
       "      <th>15999</th>\n",
       "      <td>sadness</td>\n",
       "      <td>i know a lot but i feel so stupid because i ca...</td>\n",
       "      <td>know lot feel stupid portray</td>\n",
       "    </tr>\n",
       "  </tbody>\n",
       "</table>\n",
       "<p>16000 rows × 3 columns</p>\n",
       "</div>"
      ],
      "text/plain": [
       "       Emotion                                               Text  \\\n",
       "0      sadness                            i didnt feel humiliated   \n",
       "1      sadness  i can go from feeling so hopeless to so damned...   \n",
       "2        anger   im grabbing a minute to post i feel greedy wrong   \n",
       "3         love  i am ever feeling nostalgic about the fireplac...   \n",
       "4        anger                               i am feeling grouchy   \n",
       "...        ...                                                ...   \n",
       "15995  sadness  i just had a very brief time in the beanbag an...   \n",
       "15996  sadness  i am now turning and i feel pathetic that i am...   \n",
       "15997      joy                     i feel strong and good overall   \n",
       "15998    anger  i feel like this was such a rude comment and i...   \n",
       "15999  sadness  i know a lot but i feel so stupid because i ca...   \n",
       "\n",
       "                                              Clean_Text  \n",
       "0                                  didnt feel humiliated  \n",
       "1            feeling hopeless damned hopeful cares awake  \n",
       "2              im grabbing minute post feel greedy wrong  \n",
       "3              feeling nostalgic fireplace know property  \n",
       "4                                        feeling grouchy  \n",
       "...                                                  ...  \n",
       "15995      brief time beanbag said anna feel like beaten  \n",
       "15996  turning feel pathetic waiting tables subbing t...  \n",
       "15997                           feel strong good overall  \n",
       "15998                     feel like rude comment im glad  \n",
       "15999                       know lot feel stupid portray  \n",
       "\n",
       "[16000 rows x 3 columns]"
      ]
     },
     "execution_count": 13,
     "metadata": {},
     "output_type": "execute_result"
    }
   ],
   "source": [
    "import neattext.functions as nfx\n",
    "\n",
    "df['Clean_Text'] = df['Text'].apply(nfx.remove_userhandles)\n",
    "df['Clean_Text'] = df['Clean_Text'].apply(nfx.remove_stopwords)\n",
    "df"
   ]
  },
  {
   "cell_type": "code",
   "execution_count": 8,
   "id": "d2568bf5",
   "metadata": {},
   "outputs": [],
   "source": [
    "x = df['Clean_Text']\n",
    "y = df['Emotion']"
   ]
  },
  {
   "cell_type": "code",
   "execution_count": 9,
   "id": "0781e536",
   "metadata": {},
   "outputs": [],
   "source": [
    "from sklearn.model_selection import train_test_split\n",
    "\n",
    "x_train,x_test,y_train,y_test = train_test_split(x,y,test_size=0.3,random_state=42)"
   ]
  },
  {
   "cell_type": "code",
   "execution_count": 3,
   "id": "2ab70dcb",
   "metadata": {},
   "outputs": [],
   "source": [
    "from sklearn.pipeline import Pipeline\n",
    "from sklearn.feature_extraction.text import CountVectorizer\n",
    "from sklearn.linear_model import LogisticRegression"
   ]
  },
  {
   "cell_type": "code",
   "execution_count": 10,
   "id": "8d3bb4f3",
   "metadata": {},
   "outputs": [
    {
     "data": {
      "text/plain": [
       "0.8879166666666667"
      ]
     },
     "execution_count": 10,
     "metadata": {},
     "output_type": "execute_result"
    }
   ],
   "source": [
    "pipe_lr = Pipeline(steps=[('cv',CountVectorizer()),('lr',LogisticRegression())])\n",
    "pipe_lr.fit(x_train,y_train)\n",
    "pipe_lr.score(x_test,y_test)"
   ]
  },
  {
   "cell_type": "code",
   "execution_count": 11,
   "id": "ada75396",
   "metadata": {},
   "outputs": [
    {
     "data": {
      "image/png": "[encoded data removed]",
      "text/plain": [
       "<Figure size 800x600 with 2 Axes>"
      ]
     },
     "metadata": {},
     "output_type": "display_data"
    }
   ],
   "source": [
    "from sklearn.metrics import confusion_matrix, classification_report\n",
    "import seaborn as sns\n",
    "import matplotlib.pyplot as plt\n",
    "\n",
    "y_pred = pipe_lr.predict(x_test)\n",
    "\n",
    "cm = confusion_matrix(y_test, y_pred, labels=pipe_lr.classes_)\n",
    "\n",
    "plt.figure(figsize=(8,6))\n",
    "sns.heatmap(cm, annot=True, fmt='d', xticklabels=pipe_lr.classes_, yticklabels=pipe_lr.classes_, cmap=\"Blues\")\n",
    "plt.xlabel(\"Predicted\")\n",
    "plt.ylabel(\"Actual\")\n",
    "plt.title(\"Confusion Matrix\")\n",
    "plt.show()"
   ]
  },
  {
   "cell_type": "code",
   "execution_count": 14,
   "id": "ed05d1fc",
   "metadata": {},
   "outputs": [],
   "source": [
    "import joblib\n",
    "pipeline_file = open(\"result.pkl\",\"wb\")\n",
    "joblib.dump(pipe_lr,pipeline_file)\n",
    "pipeline_file.close()"
   ]
  }
 ],
 "metadata": {
  "kernelspec": {
   "display_name": "venv",
   "language": "python",
   "name": "python3"
  },
  "language_info": {
   "codemirror_mode": {
    "name": "ipython",
    "version": 3
   },
   "file_extension": ".py",
   "mimetype": "text/x-python",
   "name": "python",
   "nbconvert_exporter": "python",
   "pygments_lexer": "ipython3",
   "version": "3.13.3"
  }
 },
 "nbformat": 4,
 "nbformat_minor": 5
}
